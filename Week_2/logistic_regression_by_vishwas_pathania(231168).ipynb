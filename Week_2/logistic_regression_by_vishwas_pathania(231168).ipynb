{
 "cells": [
  {
   "cell_type": "code",
   "execution_count": 157,
   "id": "d4df8152-c9a2-42c9-81b2-67c5a51cf0d1",
   "metadata": {},
   "outputs": [],
   "source": [
    "import numpy as np\n",
    "import pandas as pd\n",
    "import matplotlib.pyplot as plt"
   ]
  },
  {
   "cell_type": "code",
   "execution_count": 168,
   "id": "5f63fa0f-75cd-4620-be7c-094a35808a9d",
   "metadata": {},
   "outputs": [],
   "source": [
    "def load_iris_csv(file_path):\n",
    "    df=pd.read_csv(file_path,header=None)\n",
    "    data = df.iloc[1:, :-1].values  # Features\n",
    "    labels = df.iloc[1:, -1].values  # Target labels\n",
    "    labels[labels == 'Iris-setosa'] = 2\n",
    "    labels[labels == 'Iris-versicolor'] = 1\n",
    "    labels[labels == 'Iris-virginica'] = 0\n",
    "    labels = labels.astype(int)\n",
    "    data = data.astype(float)\n",
    "    return data, labels\n",
    "# Load Iris dataset from CSV file\n",
    "# Load Iris dataset from CSV file\n",
    "# Load Iris dataset from CSV file\n",
    "# def load_iris_csv(file_path):\n",
    "#     df = pd.read_csv(file_path, header=None)\n",
    "#     data = df.iloc[:, 1:].values  # Exclude the first column (headers)\n",
    "#     labels = df.iloc[:, -1].values  # Target labels\n",
    "#     # Check if the first element in labels is a string (header), and if so, remove it\n",
    "#     if isinstance(labels[0], str):\n",
    "#         labels = labels[1:]\n",
    "#     # Convert labels to numerals\n",
    "#     labels[labels == 'Iris-setosa'] = 0\n",
    "#     labels[labels == 'Iris-versicolor'] = 1\n",
    "#     labels[labels == 'Iris-virginica'] = 2\n",
    "#     labels = labels.astype(int)\n",
    "#     # Convert data to numeric type\n",
    "#     data = data.astype(float)\n",
    "#     return data, labels\n",
    "\n"
   ]
  },
  {
   "cell_type": "code",
   "execution_count": 169,
   "id": "38fabb4b-a1a7-4dc2-8925-4dff7154cebe",
   "metadata": {},
   "outputs": [],
   "source": [
    "file_path=r'C:\\Users\\vishw\\OneDrive\\Documents\\Theoretical Machine Learning\\Iris.csv'\n",
    "X,y=load_iris_csv(file_path)\n",
    "X = X[:, 1:]\n",
    "X = X[y != 2]\n",
    "y = y[y != 2]\n",
    "def train_test_split(X, y, test_size=0.2, random_state=None):\n",
    "    if random_state:\n",
    "        np.random.seed(random_state)\n",
    "    indices = np.arange(X.shape[0])\n",
    "    np.random.shuffle(indices)\n",
    "    test_samples = int(X.shape[0] * test_size)\n",
    "    X_test = X[indices[:test_samples]]\n",
    "    y_test = y[indices[:test_samples]]\n",
    "    X_train = X[indices[test_samples:]]\n",
    "    y_train = y[indices[test_samples:]]\n",
    "    return X_train, X_test, y_train, y_test\n",
    "\n",
    "X_train, X_test, y_train, y_test = train_test_split(X, y, test_size=0.2, random_state=42)\n",
    "X_train=X_train.T\n",
    "X_test=X_test.T\n",
    "y_train = y_train.reshape(1, -1)\n",
    "y_test = y_test.reshape(1, -1)\n",
    "# print(X)"
   ]
  },
  {
   "cell_type": "code",
   "execution_count": 170,
   "id": "9bc037da-287e-4fd6-8d38-4cc5d5457e92",
   "metadata": {},
   "outputs": [
    {
     "name": "stdout",
     "output_type": "stream",
     "text": [
      "    0              1             2              3             4            5\n",
      "0  Id  SepalLengthCm  SepalWidthCm  PetalLengthCm  PetalWidthCm      Species\n",
      "1   1            5.1           3.5            1.4           0.2  Iris-setosa\n",
      "2   2            4.9           3.0            1.4           0.2  Iris-setosa\n",
      "3   3            4.7           3.2            1.3           0.2  Iris-setosa\n",
      "4   4            4.6           3.1            1.5           0.2  Iris-setosa\n"
     ]
    }
   ],
   "source": [
    "df = pd.read_csv(r'C:\\Users\\vishw\\OneDrive\\Documents\\Theoretical Machine Learning\\Iris.csv', header=None)\n",
    "print(df.head())\n"
   ]
  },
  {
   "cell_type": "code",
   "execution_count": 171,
   "id": "ec415c6d-4588-4645-8a28-43477ef921b9",
   "metadata": {},
   "outputs": [],
   "source": [
    "# print(\"Shape of X_train : \", X_train.shape)\n",
    "# print(\"Data type of elements in X:\", X.dtype)\n",
    "# print(X)\n",
    "# print(\"Shape of Y_train : \", y_train.shape)\n",
    "# print(\"Shape of X_test : \", X_test.shape)\n",
    "# print(\"Shape of Y_test : \", y_test.shape)"
   ]
  },
  {
   "cell_type": "code",
   "execution_count": 172,
   "id": "60ee74dc-9fe0-4917-a9b2-b4cc5a944ecf",
   "metadata": {},
   "outputs": [],
   "source": [
    "#sigmoid function\n",
    "def sigmoid(x):\n",
    "    return 1/(1+np.exp(-x))"
   ]
  },
  {
   "cell_type": "code",
   "execution_count": 173,
   "id": "8e4ab154-0da8-4416-a6bb-1bc176a09ace",
   "metadata": {},
   "outputs": [],
   "source": [
    "#main maths\n",
    "# def model(x,y,learning_rate,iteration):\n",
    "#     m=x.shape[1]\n",
    "#     n=x.shape[0]\n",
    "#     w=np.zeros((n,1))\n",
    "#     b=0\n",
    "#     for i in range(iteration):\n",
    "#         z=np.dot(w.T,x) + b #Z = np.dot(W.T, X) + B\n",
    "#         a=sigmoid(z)\n",
    "#         # cost=-(1/m)*np.sum( Y*np.log(A) + (1-Y)*np.log(1-A))\n",
    "#         dw=(1/m)*np.dot(a-y,x.T)\n",
    "#         db=(1/m)*np.sum(a-y)\n",
    "#         w=w-learning_rate*dw.T\n",
    "#         b=b-learning_rate*db\n",
    "\n",
    "#     return w,b\n",
    "def model(X, Y, learning_rate, iterations):\n",
    "    \n",
    "    m = X_train.shape[1]\n",
    "    n = X_train.shape[0]\n",
    "    \n",
    "    W = np.zeros((n,1))\n",
    "    B = 0\n",
    "    \n",
    "    cost_list = []\n",
    "    \n",
    "    for i in range(iterations):\n",
    "        \n",
    "        Z = np.dot(W.T, X) + B\n",
    "        A = sigmoid(Z)\n",
    "        \n",
    "        # cost function\n",
    "        # cost = -(1/m)*np.sum( Y*np.log(A) + (1-Y)*np.log(1-A))\n",
    "        \n",
    "        # Gradient Descent\n",
    "        dW = (1/m)*np.dot(A-Y, X.T)\n",
    "        dB = (1/m)*np.sum(A - Y)\n",
    "        \n",
    "        W = W - learning_rate*dW.T\n",
    "        B = B - learning_rate*dB\n",
    "        \n",
    "    return W, B"
   ]
  },
  {
   "cell_type": "code",
   "execution_count": 174,
   "id": "88405cf2-6c76-499b-9ed1-914dae6d8439",
   "metadata": {},
   "outputs": [],
   "source": [
    "# n = X_train.shape[0]\n",
    "# W = np.zeros((n,1))\n",
    "# B = 0\n",
    "# print(\"Type of W:\", type(W))\n",
    "# print(\"Type of X:\", type(X))\n",
    "# print(\"Type of B:\", type(B))\n",
    "# print(\"Shape of W:\", W.shape)\n",
    "# print(\"Shape of X:\", X.shape)\n",
    "# print(\"Data type of elements in W:\", W.dtype)\n",
    "# print(\"Data type of elements in X:\", X.dtype)\n",
    "# print(X)"
   ]
  },
  {
   "cell_type": "code",
   "execution_count": 175,
   "id": "22659f18-08ee-4c02-bb17-5928385abd33",
   "metadata": {},
   "outputs": [],
   "source": [
    "iterations = 100000\n",
    "learning_rate = 0.0015\n",
    "W, B = model(X_train, y_train,learning_rate,iterations)"
   ]
  },
  {
   "cell_type": "code",
   "execution_count": 176,
   "id": "69920008-44e2-41a8-a109-08c75b62d21e",
   "metadata": {},
   "outputs": [
    {
     "name": "stdout",
     "output_type": "stream",
     "text": [
      "Accuracy of the model is :  85.0 %\n"
     ]
    }
   ],
   "source": [
    "def accuracy(X, Y, W, B):\n",
    "    \n",
    "    Z = np.dot(W.T, X) + B\n",
    "    A = sigmoid(Z)\n",
    "    \n",
    "    A = A > 0.5 #this is to get binary classification\n",
    "    \n",
    "    A = np.array(A, dtype = 'int64')\n",
    "    \n",
    "    acc = (1 - np.sum(np.absolute(A - Y))/Y.shape[1])*100\n",
    "    \n",
    "    print(\"Accuracy of the model is : \", round(acc, 2), \"%\")\n",
    "accuracy(X_test, y_test, W, B)"
   ]
  },
  {
   "cell_type": "code",
   "execution_count": null,
   "id": "a6bff452-3ca1-47d9-b60d-da19cf150b67",
   "metadata": {},
   "outputs": [],
   "source": []
  }
 ],
 "metadata": {
  "kernelspec": {
   "display_name": "Python 3 (ipykernel)",
   "language": "python",
   "name": "python3"
  },
  "language_info": {
   "codemirror_mode": {
    "name": "ipython",
    "version": 3
   },
   "file_extension": ".py",
   "mimetype": "text/x-python",
   "name": "python",
   "nbconvert_exporter": "python",
   "pygments_lexer": "ipython3",
   "version": "3.11.7"
  }
 },
 "nbformat": 4,
 "nbformat_minor": 5
}
