{
  "nbformat": 4,
  "nbformat_minor": 0,
  "metadata": {
    "colab": {
      "provenance": []
    },
    "kernelspec": {
      "name": "python3",
      "display_name": "Python 3"
    },
    "language_info": {
      "name": "python"
    }
  },
  "cells": [
    {
      "cell_type": "code",
      "execution_count": null,
      "metadata": {
        "id": "tpQ6QPUC5-cq"
      },
      "outputs": [],
      "source": [
        "import tensorflow as tf\n",
        "from tensorflow import keras\n",
        "from tensorflow.keras import datasets, layers, models\n",
        "import numpy as np\n",
        "import matplotlib.pyplot as plt"
      ]
    },
    {
      "cell_type": "code",
      "source": [
        "(X_train,y_train),(X_test,y_test) = keras.datasets.mnist.load_data()\n"
      ],
      "metadata": {
        "colab": {
          "base_uri": "https://localhost:8080/"
        },
        "id": "PLj68WHL6WNg",
        "outputId": "fd490322-7d53-4c70-ea70-c0303988c4d5"
      },
      "execution_count": null,
      "outputs": [
        {
          "output_type": "stream",
          "name": "stdout",
          "text": [
            "Downloading data from https://storage.googleapis.com/tensorflow/tf-keras-datasets/mnist.npz\n",
            "11490434/11490434 [==============================] - 0s 0us/step\n"
          ]
        }
      ]
    },
    {
      "cell_type": "code",
      "source": [
        "X_train.shape"
      ],
      "metadata": {
        "id": "PO_KkNVg62yg",
        "colab": {
          "base_uri": "https://localhost:8080/"
        },
        "outputId": "6cbdb9a0-bff8-4f6a-efce-dfb8a32b87b6"
      },
      "execution_count": null,
      "outputs": [
        {
          "output_type": "execute_result",
          "data": {
            "text/plain": [
              "(60000, 28, 28)"
            ]
          },
          "metadata": {},
          "execution_count": 3
        }
      ]
    },
    {
      "cell_type": "code",
      "source": [
        "X_test.shape"
      ],
      "metadata": {
        "colab": {
          "base_uri": "https://localhost:8080/"
        },
        "id": "8CpwY0xe68KQ",
        "outputId": "76ca2eb5-0df8-4d78-eebf-e36dd805417f"
      },
      "execution_count": null,
      "outputs": [
        {
          "output_type": "execute_result",
          "data": {
            "text/plain": [
              "(10000, 28, 28)"
            ]
          },
          "metadata": {},
          "execution_count": 4
        }
      ]
    },
    {
      "cell_type": "code",
      "source": [
        "y_train.shape"
      ],
      "metadata": {
        "colab": {
          "base_uri": "https://localhost:8080/"
        },
        "id": "GCepNoNv6_nX",
        "outputId": "e6f3fd42-e5a3-48ac-eda8-72597e9d9b01"
      },
      "execution_count": null,
      "outputs": [
        {
          "output_type": "execute_result",
          "data": {
            "text/plain": [
              "(60000,)"
            ]
          },
          "metadata": {},
          "execution_count": 5
        }
      ]
    },
    {
      "cell_type": "code",
      "source": [
        "def plot_sample(X,y,index):\n",
        "  plt.figure(figsize = (3,3))\n",
        "  plt.imshow(X[index])\n",
        "  plt.xlabel(y[index])"
      ],
      "metadata": {
        "id": "2NgOY85b7WH_"
      },
      "execution_count": null,
      "outputs": []
    },
    {
      "cell_type": "code",
      "source": [
        "plot_sample(X_train,y_train,7)"
      ],
      "metadata": {
        "colab": {
          "base_uri": "https://localhost:8080/",
          "height": 312
        },
        "id": "bFu9cQ047uzs",
        "outputId": "7cae619b-2679-40bc-f33b-294f665db8d3"
      },
      "execution_count": null,
      "outputs": [
        {
          "output_type": "display_data",
          "data": {
            "text/plain": [
              "<Figure size 300x300 with 1 Axes>"
            ],
            "image/png": "[encoded data removed]"
          },
          "metadata": {}
        }
      ]
    },
    {
      "cell_type": "code",
      "source": [
        "X_train[0].shape"
      ],
      "metadata": {
        "colab": {
          "base_uri": "https://localhost:8080/"
        },
        "id": "lt_Txwo_78t8",
        "outputId": "d7a68d09-fc05-4f51-a32d-c413cbaaf6d0"
      },
      "execution_count": null,
      "outputs": [
        {
          "output_type": "execute_result",
          "data": {
            "text/plain": [
              "(28, 28)"
            ]
          },
          "metadata": {},
          "execution_count": 8
        }
      ]
    },
    {
      "cell_type": "code",
      "source": [
        "X_test[0].shape"
      ],
      "metadata": {
        "colab": {
          "base_uri": "https://localhost:8080/"
        },
        "id": "6QS-iAU9IXXI",
        "outputId": "ffa0aef5-9a3f-46fe-a1f5-97af0393ad79"
      },
      "execution_count": null,
      "outputs": [
        {
          "output_type": "execute_result",
          "data": {
            "text/plain": [
              "(28, 28)"
            ]
          },
          "metadata": {},
          "execution_count": 9
        }
      ]
    },
    {
      "cell_type": "code",
      "source": [
        "X_train = X_train.reshape((X_train.shape[0], 28, 28, 1))\n",
        "X_test = X_test.reshape((X_test.shape[0], 28, 28, 1))\n",
        "X_train = X_train/255\n",
        "X_test = X_test/255"
      ],
      "metadata": {
        "id": "7Sh3PJ2IIb6v"
      },
      "execution_count": null,
      "outputs": []
    },
    {
      "cell_type": "code",
      "source": [
        "plot_sample(X_train,y_train,7)"
      ],
      "metadata": {
        "colab": {
          "base_uri": "https://localhost:8080/",
          "height": 312
        },
        "id": "1Nv0MIv8O5a0",
        "outputId": "b21ee0bf-fb64-412e-c77d-02405b2a59b9"
      },
      "execution_count": null,
      "outputs": [
        {
          "output_type": "display_data",
          "data": {
            "text/plain": [
              "<Figure size 300x300 with 1 Axes>"
            ],
            "image/png": "[encoded data removed]"
          },
          "metadata": {}
        }
      ]
    },
    {
      "cell_type": "markdown",
      "source": [
        "## Lets first create from pre-structured things and libraries\n",
        "Similar way as before"
      ],
      "metadata": {
        "id": "GcnKE3NV4-x7"
      }
    },
    {
      "cell_type": "code",
      "source": [
        "cnn = models.Sequential([\n",
        "    layers.Conv2D(32, kernel_size=3, activation='relu',\n",
        "           input_shape=(28,28,1), kernel_initializer='he_normal', name='Conv2D-1'),\n",
        "    layers.MaxPooling2D(pool_size=2, name='MaxPool'),\n",
        "    layers.Dropout(0.25, name='Dropout-1'),\n",
        "    layers.Conv2D(64, kernel_size=3, activation='relu', name='Conv2D-2'),\n",
        "    layers.Dropout(0.25, name='Dropout-2'),\n",
        "    layers.Conv2D(128, kernel_size=3, activation='relu', name='Conv2D-3'),\n",
        "    layers.Dropout(0.4, name='Dropout-3'),\n",
        "    layers.Flatten(name='flatten'),\n",
        "    layers.Dense(128, activation='relu', name='Dense'),\n",
        "    layers.Dropout(0.4, name='Dropout'),\n",
        "    layers.Dense(10, activation='softmax', name='Output')\n",
        "])"
      ],
      "metadata": {
        "id": "6QpIA2he5SQE"
      },
      "execution_count": null,
      "outputs": []
    },
    {
      "cell_type": "code",
      "source": [
        "cnn.summary()"
      ],
      "metadata": {
        "colab": {
          "base_uri": "https://localhost:8080/"
        },
        "id": "BAJN-3qa6uJ4",
        "outputId": "7d54bbf0-d1c3-46d0-cc58-bdf046c2cb3e"
      },
      "execution_count": null,
      "outputs": [
        {
          "output_type": "stream",
          "name": "stdout",
          "text": [
            "Model: \"sequential_1\"\n",
            "_________________________________________________________________\n",
            " Layer (type)                Output Shape              Param #   \n",
            "=================================================================\n",
            " Conv2D-1 (Conv2D)           (None, 26, 26, 32)        320       \n",
            "                                                                 \n",
            " MaxPool (MaxPooling2D)      (None, 13, 13, 32)        0         \n",
            "                                                                 \n",
            " Dropout-1 (Dropout)         (None, 13, 13, 32)        0         \n",
            "                                                                 \n",
            " Conv2D-2 (Conv2D)           (None, 11, 11, 64)        18496     \n",
            "                                                                 \n",
            " Dropout-2 (Dropout)         (None, 11, 11, 64)        0         \n",
            "                                                                 \n",
            " Conv2D-3 (Conv2D)           (None, 9, 9, 128)         73856     \n",
            "                                                                 \n",
            " Dropout-3 (Dropout)         (None, 9, 9, 128)         0         \n",
            "                                                                 \n",
            " flatten (Flatten)           (None, 10368)             0         \n",
            "                                                                 \n",
            " Dense (Dense)               (None, 128)               1327232   \n",
            "                                                                 \n",
            " Dropout (Dropout)           (None, 128)               0         \n",
            "                                                                 \n",
            " Output (Dense)              (None, 10)                1290      \n",
            "                                                                 \n",
            "=================================================================\n",
            "Total params: 1421194 (5.42 MB)\n",
            "Trainable params: 1421194 (5.42 MB)\n",
            "Non-trainable params: 0 (0.00 Byte)\n",
            "_________________________________________________________________\n"
          ]
        }
      ]
    },
    {
      "cell_type": "code",
      "source": [
        "cnn.compile(\n",
        "        loss='sparse_categorical_crossentropy',\n",
        "        optimizer=\"adam\",\n",
        "        metrics=['accuracy']\n",
        "    )"
      ],
      "metadata": {
        "id": "aeavyb0k6yZt"
      },
      "execution_count": null,
      "outputs": []
    },
    {
      "cell_type": "code",
      "source": [
        "history = cnn.fit(\n",
        "        X_train, y_train,\n",
        "        batch_size=512,\n",
        "        epochs=50, verbose=1\n",
        "    )"
      ],
      "metadata": {
        "colab": {
          "base_uri": "https://localhost:8080/"
        },
        "id": "V6TNfCHC7aRw",
        "outputId": "9c1e7ca1-1f47-4916-ad99-96ee0f71300c"
      },
      "execution_count": null,
      "outputs": [
        {
          "output_type": "stream",
          "name": "stdout",
          "text": [
            "Epoch 1/50\n",
            "118/118 [==============================] - 113s 945ms/step - loss: 0.4403 - accuracy: 0.8625\n",
            "Epoch 2/50\n",
            "118/118 [==============================] - 112s 948ms/step - loss: 0.1255 - accuracy: 0.9631\n",
            "Epoch 3/50\n",
            "118/118 [==============================] - 118s 1s/step - loss: 0.0881 - accuracy: 0.9742\n",
            "Epoch 4/50\n",
            "118/118 [==============================] - 114s 959ms/step - loss: 0.0718 - accuracy: 0.9785\n",
            "Epoch 5/50\n",
            "118/118 [==============================] - 113s 956ms/step - loss: 0.0619 - accuracy: 0.9816\n",
            "Epoch 6/50\n",
            "118/118 [==============================] - 114s 970ms/step - loss: 0.0533 - accuracy: 0.9838\n",
            "Epoch 7/50\n",
            "118/118 [==============================] - 113s 960ms/step - loss: 0.0492 - accuracy: 0.9850\n",
            "Epoch 8/50\n",
            "118/118 [==============================] - 119s 1s/step - loss: 0.0443 - accuracy: 0.9862\n",
            "Epoch 9/50\n",
            "118/118 [==============================] - 114s 964ms/step - loss: 0.0403 - accuracy: 0.9877\n",
            "Epoch 10/50\n",
            "118/118 [==============================] - 113s 955ms/step - loss: 0.0374 - accuracy: 0.9883\n",
            "Epoch 11/50\n",
            "118/118 [==============================] - 116s 983ms/step - loss: 0.0337 - accuracy: 0.9895\n",
            "Epoch 12/50\n",
            "118/118 [==============================] - 114s 964ms/step - loss: 0.0343 - accuracy: 0.9891\n",
            "Epoch 13/50\n",
            "118/118 [==============================] - 114s 960ms/step - loss: 0.0299 - accuracy: 0.9903\n",
            "Epoch 14/50\n",
            "118/118 [==============================] - 115s 972ms/step - loss: 0.0274 - accuracy: 0.9915\n",
            "Epoch 15/50\n",
            "118/118 [==============================] - 114s 967ms/step - loss: 0.0262 - accuracy: 0.9918\n",
            "Epoch 16/50\n",
            "118/118 [==============================] - 113s 957ms/step - loss: 0.0244 - accuracy: 0.9921\n",
            "Epoch 17/50\n",
            "118/118 [==============================] - 113s 955ms/step - loss: 0.0232 - accuracy: 0.9926\n",
            "Epoch 18/50\n",
            "118/118 [==============================] - 113s 958ms/step - loss: 0.0229 - accuracy: 0.9930\n",
            "Epoch 19/50\n",
            "118/118 [==============================] - 113s 957ms/step - loss: 0.0224 - accuracy: 0.9927\n",
            "Epoch 20/50\n",
            "118/118 [==============================] - 113s 956ms/step - loss: 0.0211 - accuracy: 0.9929\n",
            "Epoch 21/50\n",
            "118/118 [==============================] - 113s 962ms/step - loss: 0.0192 - accuracy: 0.9941\n",
            "Epoch 22/50\n",
            "118/118 [==============================] - 114s 961ms/step - loss: 0.0176 - accuracy: 0.9944\n",
            "Epoch 23/50\n",
            "118/118 [==============================] - 114s 965ms/step - loss: 0.0165 - accuracy: 0.9947\n",
            "Epoch 24/50\n",
            "118/118 [==============================] - 113s 959ms/step - loss: 0.0182 - accuracy: 0.9943\n",
            "Epoch 25/50\n",
            "118/118 [==============================] - 113s 957ms/step - loss: 0.0169 - accuracy: 0.9942\n",
            "Epoch 26/50\n",
            "118/118 [==============================] - 113s 959ms/step - loss: 0.0174 - accuracy: 0.9942\n",
            "Epoch 27/50\n",
            "118/118 [==============================] - 114s 963ms/step - loss: 0.0161 - accuracy: 0.9947\n",
            "Epoch 28/50\n",
            "118/118 [==============================] - 112s 948ms/step - loss: 0.0163 - accuracy: 0.9946\n",
            "Epoch 29/50\n",
            "118/118 [==============================] - 113s 958ms/step - loss: 0.0166 - accuracy: 0.9947\n",
            "Epoch 30/50\n",
            "118/118 [==============================] - 113s 959ms/step - loss: 0.0150 - accuracy: 0.9950\n",
            "Epoch 31/50\n",
            "118/118 [==============================] - 114s 968ms/step - loss: 0.0140 - accuracy: 0.9953\n",
            "Epoch 32/50\n",
            "118/118 [==============================] - 115s 973ms/step - loss: 0.0132 - accuracy: 0.9957\n",
            "Epoch 33/50\n",
            "118/118 [==============================] - 115s 971ms/step - loss: 0.0136 - accuracy: 0.9951\n",
            "Epoch 34/50\n",
            "118/118 [==============================] - 112s 951ms/step - loss: 0.0133 - accuracy: 0.9953\n",
            "Epoch 35/50\n",
            "118/118 [==============================] - 113s 962ms/step - loss: 0.0150 - accuracy: 0.9952\n",
            "Epoch 36/50\n",
            "118/118 [==============================] - 114s 964ms/step - loss: 0.0122 - accuracy: 0.9959\n",
            "Epoch 37/50\n",
            "118/118 [==============================] - 114s 963ms/step - loss: 0.0109 - accuracy: 0.9962\n",
            "Epoch 38/50\n",
            "118/118 [==============================] - 113s 955ms/step - loss: 0.0119 - accuracy: 0.9961\n",
            "Epoch 39/50\n",
            "118/118 [==============================] - 113s 959ms/step - loss: 0.0124 - accuracy: 0.9962\n",
            "Epoch 40/50\n",
            "118/118 [==============================] - 112s 948ms/step - loss: 0.0117 - accuracy: 0.9960\n",
            "Epoch 41/50\n",
            "118/118 [==============================] - 112s 949ms/step - loss: 0.0110 - accuracy: 0.9965\n",
            "Epoch 42/50\n",
            "118/118 [==============================] - 111s 942ms/step - loss: 0.0112 - accuracy: 0.9963\n",
            "Epoch 43/50\n",
            "118/118 [==============================] - 111s 944ms/step - loss: 0.0107 - accuracy: 0.9965\n",
            "Epoch 44/50\n",
            "118/118 [==============================] - 111s 940ms/step - loss: 0.0120 - accuracy: 0.9961\n",
            "Epoch 45/50\n",
            "118/118 [==============================] - 111s 941ms/step - loss: 0.0125 - accuracy: 0.9959\n",
            "Epoch 46/50\n",
            "118/118 [==============================] - 111s 944ms/step - loss: 0.0111 - accuracy: 0.9964\n",
            "Epoch 47/50\n",
            "118/118 [==============================] - 111s 944ms/step - loss: 0.0098 - accuracy: 0.9967\n",
            "Epoch 48/50\n",
            "118/118 [==============================] - 110s 937ms/step - loss: 0.0098 - accuracy: 0.9968\n",
            "Epoch 49/50\n",
            "118/118 [==============================] - 111s 942ms/step - loss: 0.0117 - accuracy: 0.9961\n",
            "Epoch 50/50\n",
            "118/118 [==============================] - 111s 945ms/step - loss: 0.0118 - accuracy: 0.9958\n"
          ]
        }
      ]
    },
    {
      "cell_type": "code",
      "source": [
        "fig,(ax1,ax2)=plt.subplots(2,figsize=(8,6))\n",
        "val_acc = history.history['accuracy']\n",
        "val_loss = history.history['loss']\n",
        "ax1.plot(val_acc, label=history)\n",
        "ax2.plot(val_loss, label=history)\n",
        "ax1.set_ylabel('Training Accuracy')\n",
        "ax2.set_ylabel('Training Loss')\n",
        "ax1.set_xlabel('Epochs')\n",
        "ax2.set_xlabel('Epochs')\n",
        "ax1.legend()\n",
        "ax2.legend()\n",
        "plt.show()"
      ],
      "metadata": {
        "colab": {
          "base_uri": "https://localhost:8080/",
          "height": 542
        },
        "id": "8Iv1GgbI8VBI",
        "outputId": "cedb0f15-58a8-4eed-8d15-17a5f84b6174"
      },
      "execution_count": null,
      "outputs": [
        {
          "output_type": "display_data",
          "data": {
            "text/plain": [
              "<Figure size 800x600 with 2 Axes>"
            ],
            "image/png": "[encoded data removed]"
          },
          "metadata": {}
        }
      ]
    },
    {
      "cell_type": "code",
      "source": [
        "test_hist = cnn.evaluate(X_test,y_test)"
      ],
      "metadata": {
        "colab": {
          "base_uri": "https://localhost:8080/"
        },
        "id": "vs8qPqHDSMsY",
        "outputId": "825d5ebb-7529-480f-eee1-28b50b108309"
      },
      "execution_count": null,
      "outputs": [
        {
          "output_type": "stream",
          "name": "stdout",
          "text": [
            "313/313 [==============================] - 7s 22ms/step - loss: 0.0224 - accuracy: 0.9945\n"
          ]
        }
      ]
    },
    {
      "cell_type": "code",
      "source": [
        "print(\"Accuracy = \"+str(test_hist[1]*100) + \"%\")"
      ],
      "metadata": {
        "colab": {
          "base_uri": "https://localhost:8080/"
        },
        "id": "HsqaeJ0ZSm9M",
        "outputId": "349679b6-85ed-473f-b9ec-6dcac92a992f"
      },
      "execution_count": null,
      "outputs": [
        {
          "output_type": "stream",
          "name": "stdout",
          "text": [
            "Accuracy = 99.44999814033508%\n"
          ]
        }
      ]
    },
    {
      "cell_type": "markdown",
      "source": [
        "# Done !!"
      ],
      "metadata": {
        "id": "aKQJQ8cfTQKo"
      }
    }
  ]
}