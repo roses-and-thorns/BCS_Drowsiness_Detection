{
  "nbformat": 4,
  "nbformat_minor": 0,
  "metadata": {
    "colab": {
      "provenance": []
    },
    "kernelspec": {
      "name": "python3",
      "display_name": "Python 3"
    },
    "language_info": {
      "name": "python"
    }
  },
  "cells": [
    {
      "cell_type": "code",
      "execution_count": 6,
      "metadata": {
        "id": "N358Hhsnthde"
      },
      "outputs": [],
      "source": [
        "#Importing dependencies\n",
        "\n",
        "import pandas as pd\n",
        "import numpy as np\n",
        "import matplotlib.pyplot as plt\n",
        "from sklearn.model_selection import train_test_split"
      ]
    },
    {
      "cell_type": "code",
      "source": [
        "#read csv\n",
        "\n",
        "path = '/content/Iris.csv'\n",
        "df = pd.read_csv(path)\n",
        "print(\"Setup complete\")\n",
        "df.columns\n",
        "df['Species'].unique()"
      ],
      "metadata": {
        "colab": {
          "base_uri": "https://localhost:8080/"
        },
        "id": "mLVLUCgUvC2A",
        "outputId": "420f15bf-e02d-47ab-808e-c8e566f80b6b"
      },
      "execution_count": 7,
      "outputs": [
        {
          "output_type": "stream",
          "name": "stdout",
          "text": [
            "Setup complete\n"
          ]
        },
        {
          "output_type": "execute_result",
          "data": {
            "text/plain": [
              "array(['Iris-setosa', 'Iris-versicolor', 'Iris-virginica'], dtype=object)"
            ]
          },
          "metadata": {},
          "execution_count": 7
        }
      ]
    },
    {
      "cell_type": "code",
      "source": [
        "#drop a species\n",
        "\n",
        "df.drop(df[df['Species']=='Iris-setosa'].index, inplace=True)\n",
        "print(df['Species'].unique())\n",
        "\n",
        "#Convert versicolor to 0 and virginica to 1\n",
        "\n",
        "df.loc[df[\"Species\"] == \"Iris-versicolor\", \"Species\"] = 0\n",
        "df.loc[df[\"Species\"] == \"Iris-virginica\", \"Species\"] = 1\n",
        "print(df['Species'].unique())\n",
        "\n",
        "#train test split\n",
        "\n",
        "y = df.Species\n",
        "feature_names = ['SepalLengthCm', 'SepalWidthCm', 'PetalLengthCm', 'PetalWidthCm']\n",
        "X = df[feature_names]\n",
        "train_X, val_X, train_y, val_y = train_test_split(X,y,test_size = 0.25,random_state = 1)"
      ],
      "metadata": {
        "colab": {
          "base_uri": "https://localhost:8080/"
        },
        "id": "thHQLTcyx4od",
        "outputId": "2e72bd2a-a2e0-4254-fda9-7fb959b082c7"
      },
      "execution_count": 8,
      "outputs": [
        {
          "output_type": "stream",
          "name": "stdout",
          "text": [
            "['Iris-versicolor' 'Iris-virginica']\n",
            "[0 1]\n"
          ]
        }
      ]
    },
    {
      "cell_type": "code",
      "source": [
        "# Logistic regression\n",
        "\n",
        "def sigmoid(x):\n",
        "  x=x.astype(float)\n",
        "  return 1/(1+np.exp(-x))\n",
        "\n",
        "class LogisticRegressor():\n",
        "\n",
        "  def __init__(self, lr=0.001, n_iter=1000):\n",
        "    self.lr = lr\n",
        "    self.n_iter = n_iter\n",
        "    self.weights = None\n",
        "    self.bias = None\n",
        "\n",
        "  def fit(self, X, y):\n",
        "    N, n_features = X.shape\n",
        "    self.weights = np.zeros(n_features)\n",
        "    self.bias = 0\n",
        "\n",
        "\n",
        "    for i in range(self.n_iter):\n",
        "      linearpred = np.dot(X,self.weights) + self.bias\n",
        "      pred = sigmoid(linearpred)\n",
        "      dldw = (1/N)*np.dot(X.T,pred-y)\n",
        "      dldb = (1/N)*np.sum(pred - y)\n",
        "      self.weights = self.weights - self.lr*dldw\n",
        "      self.bias = self.bias - self.lr*dldb\n",
        "\n",
        "  def predict(self, X):\n",
        "    linearpred = np.dot(X, self.weights) + self.bias\n",
        "    y_predicted = sigmoid(linearpred)\n",
        "    for i in range(len(y_predicted)):\n",
        "      y_predicted[i] = (y_predicted[i]>=0.5)\n",
        "    return y_predicted\n",
        "\n",
        "#Accuracy\n",
        "\n",
        "def accuracy(y,y_pred):\n",
        "  return (np.sum(y==y_pred))/len(y)\n",
        "\n"
      ],
      "metadata": {
        "id": "Bp7k72zQG8bm"
      },
      "execution_count": 9,
      "outputs": []
    },
    {
      "cell_type": "code",
      "source": [
        "model = LogisticRegressor()\n",
        "model.fit(train_X, train_y)\n",
        "y_pred = model.predict(val_X)\n",
        "print(accuracy(val_y,y_pred))\n"
      ],
      "metadata": {
        "colab": {
          "base_uri": "https://localhost:8080/"
        },
        "id": "GJOvDOgB4_VP",
        "outputId": "9c2e9d55-f86c-45a8-8400-afaab2e118cb"
      },
      "execution_count": 10,
      "outputs": [
        {
          "output_type": "stream",
          "name": "stdout",
          "text": [
            "0.96\n"
          ]
        }
      ]
    }
  ]
}