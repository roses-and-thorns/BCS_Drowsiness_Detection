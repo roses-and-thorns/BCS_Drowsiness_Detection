{
 "cells": [
  {
   "cell_type": "code",
   "execution_count": 289,
   "id": "0b40f46e-91fa-4c7a-b4f5-77d6bd63f6cd",
   "metadata": {},
   "outputs": [],
   "source": [
    "import numpy as np\n",
    "import pandas as pd\n",
    "from sklearn.model_selection import train_test_split"
   ]
  },
  {
   "cell_type": "code",
   "execution_count": 290,
   "id": "abe23e4e-30e9-41e3-be20-9204e841d06d",
   "metadata": {},
   "outputs": [
    {
     "data": {
      "text/html": [
       "<div>\n",
       "<style scoped>\n",
       "    .dataframe tbody tr th:only-of-type {\n",
       "        vertical-align: middle;\n",
       "    }\n",
       "\n",
       "    .dataframe tbody tr th {\n",
       "        vertical-align: top;\n",
       "    }\n",
       "\n",
       "    .dataframe thead th {\n",
       "        text-align: right;\n",
       "    }\n",
       "</style>\n",
       "<table border=\"1\" class=\"dataframe\">\n",
       "  <thead>\n",
       "    <tr style=\"text-align: right;\">\n",
       "      <th></th>\n",
       "      <th>Id</th>\n",
       "      <th>SepalLengthCm</th>\n",
       "      <th>SepalWidthCm</th>\n",
       "      <th>PetalLengthCm</th>\n",
       "      <th>PetalWidthCm</th>\n",
       "      <th>Species</th>\n",
       "    </tr>\n",
       "  </thead>\n",
       "  <tbody>\n",
       "    <tr>\n",
       "      <th>0</th>\n",
       "      <td>1</td>\n",
       "      <td>5.1</td>\n",
       "      <td>3.5</td>\n",
       "      <td>1.4</td>\n",
       "      <td>0.2</td>\n",
       "      <td>Iris-setosa</td>\n",
       "    </tr>\n",
       "    <tr>\n",
       "      <th>1</th>\n",
       "      <td>2</td>\n",
       "      <td>4.9</td>\n",
       "      <td>3.0</td>\n",
       "      <td>1.4</td>\n",
       "      <td>0.2</td>\n",
       "      <td>Iris-setosa</td>\n",
       "    </tr>\n",
       "    <tr>\n",
       "      <th>2</th>\n",
       "      <td>3</td>\n",
       "      <td>4.7</td>\n",
       "      <td>3.2</td>\n",
       "      <td>1.3</td>\n",
       "      <td>0.2</td>\n",
       "      <td>Iris-setosa</td>\n",
       "    </tr>\n",
       "    <tr>\n",
       "      <th>3</th>\n",
       "      <td>4</td>\n",
       "      <td>4.6</td>\n",
       "      <td>3.1</td>\n",
       "      <td>1.5</td>\n",
       "      <td>0.2</td>\n",
       "      <td>Iris-setosa</td>\n",
       "    </tr>\n",
       "    <tr>\n",
       "      <th>4</th>\n",
       "      <td>5</td>\n",
       "      <td>5.0</td>\n",
       "      <td>3.6</td>\n",
       "      <td>1.4</td>\n",
       "      <td>0.2</td>\n",
       "      <td>Iris-setosa</td>\n",
       "    </tr>\n",
       "    <tr>\n",
       "      <th>...</th>\n",
       "      <td>...</td>\n",
       "      <td>...</td>\n",
       "      <td>...</td>\n",
       "      <td>...</td>\n",
       "      <td>...</td>\n",
       "      <td>...</td>\n",
       "    </tr>\n",
       "    <tr>\n",
       "      <th>145</th>\n",
       "      <td>146</td>\n",
       "      <td>6.7</td>\n",
       "      <td>3.0</td>\n",
       "      <td>5.2</td>\n",
       "      <td>2.3</td>\n",
       "      <td>Iris-virginica</td>\n",
       "    </tr>\n",
       "    <tr>\n",
       "      <th>146</th>\n",
       "      <td>147</td>\n",
       "      <td>6.3</td>\n",
       "      <td>2.5</td>\n",
       "      <td>5.0</td>\n",
       "      <td>1.9</td>\n",
       "      <td>Iris-virginica</td>\n",
       "    </tr>\n",
       "    <tr>\n",
       "      <th>147</th>\n",
       "      <td>148</td>\n",
       "      <td>6.5</td>\n",
       "      <td>3.0</td>\n",
       "      <td>5.2</td>\n",
       "      <td>2.0</td>\n",
       "      <td>Iris-virginica</td>\n",
       "    </tr>\n",
       "    <tr>\n",
       "      <th>148</th>\n",
       "      <td>149</td>\n",
       "      <td>6.2</td>\n",
       "      <td>3.4</td>\n",
       "      <td>5.4</td>\n",
       "      <td>2.3</td>\n",
       "      <td>Iris-virginica</td>\n",
       "    </tr>\n",
       "    <tr>\n",
       "      <th>149</th>\n",
       "      <td>150</td>\n",
       "      <td>5.9</td>\n",
       "      <td>3.0</td>\n",
       "      <td>5.1</td>\n",
       "      <td>1.8</td>\n",
       "      <td>Iris-virginica</td>\n",
       "    </tr>\n",
       "  </tbody>\n",
       "</table>\n",
       "<p>150 rows × 6 columns</p>\n",
       "</div>"
      ],
      "text/plain": [
       "      Id  SepalLengthCm  SepalWidthCm  PetalLengthCm  PetalWidthCm  \\\n",
       "0      1            5.1           3.5            1.4           0.2   \n",
       "1      2            4.9           3.0            1.4           0.2   \n",
       "2      3            4.7           3.2            1.3           0.2   \n",
       "3      4            4.6           3.1            1.5           0.2   \n",
       "4      5            5.0           3.6            1.4           0.2   \n",
       "..   ...            ...           ...            ...           ...   \n",
       "145  146            6.7           3.0            5.2           2.3   \n",
       "146  147            6.3           2.5            5.0           1.9   \n",
       "147  148            6.5           3.0            5.2           2.0   \n",
       "148  149            6.2           3.4            5.4           2.3   \n",
       "149  150            5.9           3.0            5.1           1.8   \n",
       "\n",
       "            Species  \n",
       "0       Iris-setosa  \n",
       "1       Iris-setosa  \n",
       "2       Iris-setosa  \n",
       "3       Iris-setosa  \n",
       "4       Iris-setosa  \n",
       "..              ...  \n",
       "145  Iris-virginica  \n",
       "146  Iris-virginica  \n",
       "147  Iris-virginica  \n",
       "148  Iris-virginica  \n",
       "149  Iris-virginica  \n",
       "\n",
       "[150 rows x 6 columns]"
      ]
     },
     "execution_count": 290,
     "metadata": {},
     "output_type": "execute_result"
    }
   ],
   "source": [
    "df=pd.read_csv('iris.csv')\n",
    "df"
   ]
  },
  {
   "cell_type": "code",
   "execution_count": 291,
   "id": "4b99cdb2-7dab-4099-88ff-956395434631",
   "metadata": {},
   "outputs": [
    {
     "data": {
      "text/plain": [
       "Index(['Id', 'SepalLengthCm', 'SepalWidthCm', 'PetalLengthCm', 'PetalWidthCm',\n",
       "       'Species'],\n",
       "      dtype='object')"
      ]
     },
     "execution_count": 291,
     "metadata": {},
     "output_type": "execute_result"
    }
   ],
   "source": [
    "df.columns"
   ]
  },
  {
   "cell_type": "code",
   "execution_count": 292,
   "id": "dea3e0fd-ebd0-4c11-998b-1aaaa5a52768",
   "metadata": {},
   "outputs": [
    {
     "data": {
      "text/plain": [
       "Id                 int64\n",
       "SepalLengthCm    float64\n",
       "SepalWidthCm     float64\n",
       "PetalLengthCm    float64\n",
       "PetalWidthCm     float64\n",
       "Species           object\n",
       "dtype: object"
      ]
     },
     "execution_count": 292,
     "metadata": {},
     "output_type": "execute_result"
    }
   ],
   "source": [
    "df.dtypes"
   ]
  },
  {
   "cell_type": "code",
   "execution_count": 293,
   "id": "f3faae28-8eaf-4036-af8f-4bfcba2fe027",
   "metadata": {},
   "outputs": [
    {
     "data": {
      "text/plain": [
       "Id               0\n",
       "SepalLengthCm    0\n",
       "SepalWidthCm     0\n",
       "PetalLengthCm    0\n",
       "PetalWidthCm     0\n",
       "Species          0\n",
       "dtype: int64"
      ]
     },
     "execution_count": 293,
     "metadata": {},
     "output_type": "execute_result"
    }
   ],
   "source": [
    "df.isnull().sum()"
   ]
  },
  {
   "cell_type": "code",
   "execution_count": 294,
   "id": "edb15ab3-d54c-41fc-a772-9602cde7ac70",
   "metadata": {},
   "outputs": [
    {
     "data": {
      "text/html": [
       "<div>\n",
       "<style scoped>\n",
       "    .dataframe tbody tr th:only-of-type {\n",
       "        vertical-align: middle;\n",
       "    }\n",
       "\n",
       "    .dataframe tbody tr th {\n",
       "        vertical-align: top;\n",
       "    }\n",
       "\n",
       "    .dataframe thead th {\n",
       "        text-align: right;\n",
       "    }\n",
       "</style>\n",
       "<table border=\"1\" class=\"dataframe\">\n",
       "  <thead>\n",
       "    <tr style=\"text-align: right;\">\n",
       "      <th></th>\n",
       "      <th>Id</th>\n",
       "      <th>SepalLengthCm</th>\n",
       "      <th>SepalWidthCm</th>\n",
       "      <th>PetalLengthCm</th>\n",
       "      <th>PetalWidthCm</th>\n",
       "      <th>Species</th>\n",
       "    </tr>\n",
       "  </thead>\n",
       "  <tbody>\n",
       "    <tr>\n",
       "      <th>50</th>\n",
       "      <td>51</td>\n",
       "      <td>7.0</td>\n",
       "      <td>3.2</td>\n",
       "      <td>4.7</td>\n",
       "      <td>1.4</td>\n",
       "      <td>Iris-versicolor</td>\n",
       "    </tr>\n",
       "    <tr>\n",
       "      <th>51</th>\n",
       "      <td>52</td>\n",
       "      <td>6.4</td>\n",
       "      <td>3.2</td>\n",
       "      <td>4.5</td>\n",
       "      <td>1.5</td>\n",
       "      <td>Iris-versicolor</td>\n",
       "    </tr>\n",
       "    <tr>\n",
       "      <th>52</th>\n",
       "      <td>53</td>\n",
       "      <td>6.9</td>\n",
       "      <td>3.1</td>\n",
       "      <td>4.9</td>\n",
       "      <td>1.5</td>\n",
       "      <td>Iris-versicolor</td>\n",
       "    </tr>\n",
       "    <tr>\n",
       "      <th>53</th>\n",
       "      <td>54</td>\n",
       "      <td>5.5</td>\n",
       "      <td>2.3</td>\n",
       "      <td>4.0</td>\n",
       "      <td>1.3</td>\n",
       "      <td>Iris-versicolor</td>\n",
       "    </tr>\n",
       "    <tr>\n",
       "      <th>54</th>\n",
       "      <td>55</td>\n",
       "      <td>6.5</td>\n",
       "      <td>2.8</td>\n",
       "      <td>4.6</td>\n",
       "      <td>1.5</td>\n",
       "      <td>Iris-versicolor</td>\n",
       "    </tr>\n",
       "    <tr>\n",
       "      <th>...</th>\n",
       "      <td>...</td>\n",
       "      <td>...</td>\n",
       "      <td>...</td>\n",
       "      <td>...</td>\n",
       "      <td>...</td>\n",
       "      <td>...</td>\n",
       "    </tr>\n",
       "    <tr>\n",
       "      <th>145</th>\n",
       "      <td>146</td>\n",
       "      <td>6.7</td>\n",
       "      <td>3.0</td>\n",
       "      <td>5.2</td>\n",
       "      <td>2.3</td>\n",
       "      <td>Iris-virginica</td>\n",
       "    </tr>\n",
       "    <tr>\n",
       "      <th>146</th>\n",
       "      <td>147</td>\n",
       "      <td>6.3</td>\n",
       "      <td>2.5</td>\n",
       "      <td>5.0</td>\n",
       "      <td>1.9</td>\n",
       "      <td>Iris-virginica</td>\n",
       "    </tr>\n",
       "    <tr>\n",
       "      <th>147</th>\n",
       "      <td>148</td>\n",
       "      <td>6.5</td>\n",
       "      <td>3.0</td>\n",
       "      <td>5.2</td>\n",
       "      <td>2.0</td>\n",
       "      <td>Iris-virginica</td>\n",
       "    </tr>\n",
       "    <tr>\n",
       "      <th>148</th>\n",
       "      <td>149</td>\n",
       "      <td>6.2</td>\n",
       "      <td>3.4</td>\n",
       "      <td>5.4</td>\n",
       "      <td>2.3</td>\n",
       "      <td>Iris-virginica</td>\n",
       "    </tr>\n",
       "    <tr>\n",
       "      <th>149</th>\n",
       "      <td>150</td>\n",
       "      <td>5.9</td>\n",
       "      <td>3.0</td>\n",
       "      <td>5.1</td>\n",
       "      <td>1.8</td>\n",
       "      <td>Iris-virginica</td>\n",
       "    </tr>\n",
       "  </tbody>\n",
       "</table>\n",
       "<p>100 rows × 6 columns</p>\n",
       "</div>"
      ],
      "text/plain": [
       "      Id  SepalLengthCm  SepalWidthCm  PetalLengthCm  PetalWidthCm  \\\n",
       "50    51            7.0           3.2            4.7           1.4   \n",
       "51    52            6.4           3.2            4.5           1.5   \n",
       "52    53            6.9           3.1            4.9           1.5   \n",
       "53    54            5.5           2.3            4.0           1.3   \n",
       "54    55            6.5           2.8            4.6           1.5   \n",
       "..   ...            ...           ...            ...           ...   \n",
       "145  146            6.7           3.0            5.2           2.3   \n",
       "146  147            6.3           2.5            5.0           1.9   \n",
       "147  148            6.5           3.0            5.2           2.0   \n",
       "148  149            6.2           3.4            5.4           2.3   \n",
       "149  150            5.9           3.0            5.1           1.8   \n",
       "\n",
       "             Species  \n",
       "50   Iris-versicolor  \n",
       "51   Iris-versicolor  \n",
       "52   Iris-versicolor  \n",
       "53   Iris-versicolor  \n",
       "54   Iris-versicolor  \n",
       "..               ...  \n",
       "145   Iris-virginica  \n",
       "146   Iris-virginica  \n",
       "147   Iris-virginica  \n",
       "148   Iris-virginica  \n",
       "149   Iris-virginica  \n",
       "\n",
       "[100 rows x 6 columns]"
      ]
     },
     "execution_count": 294,
     "metadata": {},
     "output_type": "execute_result"
    }
   ],
   "source": [
    "df=df[df.Species != \"Iris-setosa\"]\n",
    "df"
   ]
  },
  {
   "cell_type": "code",
   "execution_count": 295,
   "id": "b71f5254-75a2-4a3d-95e1-46f1ce74d803",
   "metadata": {},
   "outputs": [
    {
     "name": "stdout",
     "output_type": "stream",
     "text": [
      "50     0\n",
      "51     0\n",
      "52     0\n",
      "53     0\n",
      "54     0\n",
      "      ..\n",
      "145    1\n",
      "146    1\n",
      "147    1\n",
      "148    1\n",
      "149    1\n",
      "Name: Species, Length: 100, dtype: int64\n"
     ]
    },
    {
     "name": "stderr",
     "output_type": "stream",
     "text": [
      "C:\\Users\\easys\\AppData\\Local\\Temp\\ipykernel_18788\\434712367.py:4: SettingWithCopyWarning: \n",
      "A value is trying to be set on a copy of a slice from a DataFrame\n",
      "\n",
      "See the caveats in the documentation: https://pandas.pydata.org/pandas-docs/stable/user_guide/indexing.html#returning-a-view-versus-a-copy\n",
      "  Y.replace({'Iris-versicolor':0, 'Iris-virginica':1}, inplace=True)\n"
     ]
    }
   ],
   "source": [
    "X=df.drop(columns=[\"Species\",\"Id\"])\n",
    "Y=df[\"Species\"]\n",
    "\n",
    "Y.replace({'Iris-versicolor':0, 'Iris-virginica':1}, inplace=True)\n",
    "print(Y)"
   ]
  },
  {
   "cell_type": "code",
   "execution_count": 296,
   "id": "99c15f80-94a3-4de6-ad74-ea4f261c9561",
   "metadata": {},
   "outputs": [
    {
     "data": {
      "text/plain": [
       "(     SepalLengthCm  SepalWidthCm  PetalLengthCm  PetalWidthCm\n",
       " 134            6.1           2.6            5.6           1.4\n",
       " 145            6.7           3.0            5.2           2.3\n",
       " 83             6.0           2.7            5.1           1.6\n",
       " 115            6.4           3.2            5.3           2.3\n",
       " 70             5.9           3.2            4.8           1.8\n",
       " ..             ...           ...            ...           ...\n",
       " 109            7.2           3.6            6.1           2.5\n",
       " 81             5.5           2.4            3.7           1.0\n",
       " 52             6.9           3.1            4.9           1.5\n",
       " 116            6.5           3.0            5.5           1.8\n",
       " 112            6.8           3.0            5.5           2.1\n",
       " \n",
       " [80 rows x 4 columns],\n",
       " 134    1\n",
       " 145    1\n",
       " 83     0\n",
       " 115    1\n",
       " 70     0\n",
       "       ..\n",
       " 109    1\n",
       " 81     0\n",
       " 52     0\n",
       " 116    1\n",
       " 112    1\n",
       " Name: Species, Length: 80, dtype: int64)"
      ]
     },
     "execution_count": 296,
     "metadata": {},
     "output_type": "execute_result"
    }
   ],
   "source": [
    "X,X_test,Y,Y_test=train_test_split(X,Y,test_size=0.2)\n",
    "X,Y"
   ]
  },
  {
   "cell_type": "code",
   "execution_count": 297,
   "id": "edd80beb-3127-4866-90b1-9d0e22b1ebba",
   "metadata": {},
   "outputs": [],
   "source": [
    "w=np.zeros((4,1))\n",
    "b=0\n",
    "X=X.T"
   ]
  },
  {
   "cell_type": "code",
   "execution_count": 298,
   "id": "f043d725-9fd6-4fda-95ab-7ab55fcfe14f",
   "metadata": {},
   "outputs": [
    {
     "name": "stdout",
     "output_type": "stream",
     "text": [
      "(4, 80)\n",
      "(1, 80)\n",
      "(4, 1)\n"
     ]
    }
   ],
   "source": [
    "Y=Y.values.reshape(1,len(Y))\n",
    "print(X.shape)\n",
    "print(Y.shape)\n",
    "print(w.shape)"
   ]
  },
  {
   "cell_type": "code",
   "execution_count": 299,
   "id": "5d0d6578-3620-4248-98bd-4e19384b269e",
   "metadata": {},
   "outputs": [
    {
     "data": {
      "text/plain": [
       "(                       0\n",
       " SepalLengthCm  -3.386022\n",
       " SepalWidthCm   -5.727662\n",
       " PetalLengthCm   6.072073\n",
       " PetalWidthCm   11.402098,\n",
       " -11.45486788598669)"
      ]
     },
     "execution_count": 299,
     "metadata": {},
     "output_type": "execute_result"
    }
   ],
   "source": [
    "iterations = 10000\n",
    "lr = 0.5\n",
    "m=80\n",
    "#dont use math function, use np.exp\n",
    "def sigmoid(x):\n",
    "    return 1/(1+np.exp(-x))\n",
    "for i in range(iterations):\n",
    "    Z=np.dot(w.T,X)+b\n",
    "    A=sigmoid(Z)\n",
    "    A\n",
    "    dZ=A-Y\n",
    "    dw=(1/m)*np.matmul(X,dZ.T)\n",
    "    db=(1/m)*np.sum(dZ)\n",
    "    w=w-lr*dw\n",
    "    b=b-lr*db\n",
    "   \n",
    "w,b\n",
    "\n"
   ]
  },
  {
   "cell_type": "code",
   "execution_count": 300,
   "id": "dd1985da-4fa2-4e30-856f-822b2e16e0ba",
   "metadata": {},
   "outputs": [
    {
     "data": {
      "text/plain": [
       "(               95   63   84   107  133  131  130  72   110  146  132  76   \\\n",
       " SepalLengthCm  5.7  6.1  5.4  7.3  6.3  7.9  7.4  6.3  6.5  6.3  6.4  6.8   \n",
       " SepalWidthCm   3.0  2.9  3.0  2.9  2.8  3.8  2.8  2.5  3.2  2.5  2.8  2.8   \n",
       " PetalLengthCm  4.2  4.7  4.5  6.3  5.1  6.4  6.1  4.9  5.1  5.0  5.6  4.8   \n",
       " PetalWidthCm   1.2  1.4  1.5  1.8  1.5  2.0  1.9  1.5  2.0  1.9  2.2  1.4   \n",
       " \n",
       "                67   96   77   108  78   61   90   143  \n",
       " SepalLengthCm  5.8  5.7  6.7  6.7  6.0  5.9  5.5  6.8  \n",
       " SepalWidthCm   2.7  2.9  3.0  2.5  2.9  3.0  2.6  3.2  \n",
       " PetalLengthCm  4.1  4.2  5.0  5.8  4.5  4.2  4.4  5.9  \n",
       " PetalWidthCm   1.0  1.3  1.7  1.8  1.5  1.5  1.2  2.3  ,\n",
       " array([[0, 0, 0, 1, 1, 1, 1, 0, 1, 1, 1, 0, 0, 0, 0, 1, 0, 0, 0, 1]],\n",
       "       dtype=int64))"
      ]
     },
     "execution_count": 300,
     "metadata": {},
     "output_type": "execute_result"
    }
   ],
   "source": [
    "X_test=X_test.T\n",
    "Y_test=Y_test.values.reshape(1,len(Y_test))\n",
    "X_test,Y_test"
   ]
  },
  {
   "cell_type": "code",
   "execution_count": 301,
   "id": "7debd8c9-dba8-4fe1-8b68-ccee79dcbfed",
   "metadata": {},
   "outputs": [
    {
     "name": "stdout",
     "output_type": "stream",
     "text": [
      "(4, 20) (1, 20)\n"
     ]
    }
   ],
   "source": [
    "print(X_test.shape, Y_test.shape)"
   ]
  },
  {
   "cell_type": "code",
   "execution_count": 302,
   "id": "9d76bec7-dcf6-4468-807f-88ff6db57cf1",
   "metadata": {},
   "outputs": [
    {
     "name": "stdout",
     "output_type": "stream",
     "text": [
      "91.47256203373351\n"
     ]
    }
   ],
   "source": [
    "Z_test=np.dot(w.T,X_test)+b\n",
    "A_test=sigmoid(Z_test)\n",
    "np.round(A_test)\n",
    "fin=A_test-Y_test\n",
    "sum=np.absolute(fin)\n",
    "inacc=np.sum(sum)\n",
    "accuracy=((20-inacc)/20)*100\n",
    "print(accuracy)"
   ]
  },
  {
   "cell_type": "code",
   "execution_count": null,
   "id": "18757374-0566-4392-a2a5-456cdb010a70",
   "metadata": {},
   "outputs": [],
   "source": []
  }
 ],
 "metadata": {
  "kernelspec": {
   "display_name": "Python 3 (ipykernel)",
   "language": "python",
   "name": "python3"
  },
  "language_info": {
   "codemirror_mode": {
    "name": "ipython",
    "version": 3
   },
   "file_extension": ".py",
   "mimetype": "text/x-python",
   "name": "python",
   "nbconvert_exporter": "python",
   "pygments_lexer": "ipython3",
   "version": "3.11.7"
  }
 },
 "nbformat": 4,
 "nbformat_minor": 5
}
