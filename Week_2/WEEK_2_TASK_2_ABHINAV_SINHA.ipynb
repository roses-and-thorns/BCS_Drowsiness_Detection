{
  "nbformat": 4,
  "nbformat_minor": 0,
  "metadata": {
    "colab": {
      "provenance": []
    },
    "kernelspec": {
      "name": "python3",
      "display_name": "Python 3"
    },
    "language_info": {
      "name": "python"
    }
  },
  "cells": [
    {
      "cell_type": "code",
      "execution_count": 97,
      "metadata": {
        "id": "APJoeqsKPjV5"
      },
      "outputs": [],
      "source": [
        "import numpy as np\n",
        "import pandas as pd\n",
        "import matplotlib.pyplot as plt"
      ]
    },
    {
      "cell_type": "code",
      "source": [
        "data=pd.read_csv('/content/Iris.csv')\n",
        "#Matrix=data.values\n",
        "data=data[data['Species'].isin(['Iris-versicolor','Iris-virginica'])]#gets the required rows\n",
        "data.head()\n",
        "data['Species']=data['Species'].map({'Iris-versicolor':0,'Iris-virginica':1})\n",
        "#data\n",
        "X_train=data.sample(n=80,replace=False,random_state=1) #extracts random 80 rows from the dataset\n",
        "Y_train=data.sample(n=80,replace=False,random_state=1)\n",
        "X_test=data.drop(X_train.index)  #drops the rows\n",
        "Y_test=data.drop(Y_train.index)  #drops the rows\n",
        "X_train.drop(columns=['Id','Species'],inplace=True)  #I get the feature dataset\n",
        "X_test.drop(columns=['Id','Species'],inplace=True)\n",
        "Y_train.drop(columns=['Id','SepalLengthCm','SepalWidthCm','PetalLengthCm','PetalWidthCm'],inplace=True)#I get the species\n",
        "Y_test.drop(columns=['Id','SepalLengthCm','SepalWidthCm','PetalLengthCm','PetalWidthCm'],inplace=True)\n",
        "X_train=X_train.values  #feature matrix\n",
        "X_test=X_test.values\n"
      ],
      "metadata": {
        "id": "o8jm0vxfdDaj"
      },
      "execution_count": 98,
      "outputs": []
    },
    {
      "cell_type": "code",
      "source": [
        "ones_column=np.ones((X_train.shape[0],1))\n",
        "one_column=np.ones((X_test.shape[0],1))\n",
        "X_0=np.hstack((ones_column,X_train))\n",
        "X_1=np.hstack((one_column,X_test))\n",
        "X_0\n"
      ],
      "metadata": {
        "colab": {
          "base_uri": "https://localhost:8080/"
        },
        "id": "SNZ4nSTYuVxL",
        "outputId": "8e21f78b-9813-49c5-e16a-c7ea612a691c"
      },
      "execution_count": 99,
      "outputs": [
        {
          "output_type": "execute_result",
          "data": {
            "text/plain": [
              "array([[1. , 7.4, 2.8, 6.1, 1.9],\n",
              "       [1. , 6.1, 2.6, 5.6, 1.4],\n",
              "       [1. , 6. , 2.7, 5.1, 1.6],\n",
              "       [1. , 7.9, 3.8, 6.4, 2. ],\n",
              "       [1. , 6.8, 3.2, 5.9, 2.3],\n",
              "       [1. , 5.8, 2.7, 4.1, 1. ],\n",
              "       [1. , 6.7, 3.1, 4.7, 1.5],\n",
              "       [1. , 6.4, 2.8, 5.6, 2.2],\n",
              "       [1. , 6. , 2.2, 5. , 1.5],\n",
              "       [1. , 6.4, 3.2, 5.3, 2.3],\n",
              "       [1. , 5.8, 2.7, 5.1, 1.9],\n",
              "       [1. , 5.5, 2.5, 4. , 1.3],\n",
              "       [1. , 4.9, 2.5, 4.5, 1.7],\n",
              "       [1. , 7.1, 3. , 5.9, 2.1],\n",
              "       [1. , 5.8, 2.7, 5.1, 1.9],\n",
              "       [1. , 5.8, 2.7, 3.9, 1.2],\n",
              "       [1. , 5.5, 2.4, 3.7, 1. ],\n",
              "       [1. , 5.6, 2.7, 4.2, 1.3],\n",
              "       [1. , 6.4, 2.8, 5.6, 2.1],\n",
              "       [1. , 5. , 2. , 3.5, 1. ],\n",
              "       [1. , 6.9, 3.1, 4.9, 1.5],\n",
              "       [1. , 6.3, 2.7, 4.9, 1.8],\n",
              "       [1. , 6.5, 3. , 5.2, 2. ],\n",
              "       [1. , 6.8, 3. , 5.5, 2.1],\n",
              "       [1. , 5.6, 2.5, 3.9, 1.1],\n",
              "       [1. , 6. , 3.4, 4.5, 1.6],\n",
              "       [1. , 6.7, 3.3, 5.7, 2.5],\n",
              "       [1. , 6.7, 3. , 5. , 1.7],\n",
              "       [1. , 5.7, 2.9, 4.2, 1.3],\n",
              "       [1. , 5.6, 3. , 4.1, 1.3],\n",
              "       [1. , 7.7, 3.8, 6.7, 2.2],\n",
              "       [1. , 5.9, 3. , 5.1, 1.8],\n",
              "       [1. , 6.5, 3. , 5.8, 2.2],\n",
              "       [1. , 6.7, 3. , 5.2, 2.3],\n",
              "       [1. , 6. , 3. , 4.8, 1.8],\n",
              "       [1. , 5.5, 2.6, 4.4, 1.2],\n",
              "       [1. , 5.1, 2.5, 3. , 1.1],\n",
              "       [1. , 7.2, 3.6, 6.1, 2.5],\n",
              "       [1. , 6.1, 2.8, 4.7, 1.2],\n",
              "       [1. , 5.4, 3. , 4.5, 1.5],\n",
              "       [1. , 6.3, 3.4, 5.6, 2.4],\n",
              "       [1. , 6.3, 2.9, 5.6, 1.8],\n",
              "       [1. , 6.1, 3. , 4.9, 1.8],\n",
              "       [1. , 6.7, 3.1, 4.4, 1.4],\n",
              "       [1. , 6.3, 2.8, 5.1, 1.5],\n",
              "       [1. , 6.1, 3. , 4.6, 1.4],\n",
              "       [1. , 5.7, 3. , 4.2, 1.2],\n",
              "       [1. , 6.9, 3.1, 5.1, 2.3],\n",
              "       [1. , 6.8, 2.8, 4.8, 1.4],\n",
              "       [1. , 6.2, 3.4, 5.4, 2.3],\n",
              "       [1. , 5. , 2.3, 3.3, 1. ],\n",
              "       [1. , 7.6, 3. , 6.6, 2.1],\n",
              "       [1. , 6.4, 2.9, 4.3, 1.3],\n",
              "       [1. , 6.5, 2.8, 4.6, 1.5],\n",
              "       [1. , 6.7, 2.5, 5.8, 1.8],\n",
              "       [1. , 5.7, 2.8, 4.1, 1.3],\n",
              "       [1. , 6.1, 2.8, 4. , 1.3],\n",
              "       [1. , 6.4, 3.1, 5.5, 1.8],\n",
              "       [1. , 5.5, 2.3, 4. , 1.3],\n",
              "       [1. , 6.7, 3.3, 5.7, 2.1],\n",
              "       [1. , 5.5, 2.4, 3.8, 1.1],\n",
              "       [1. , 6.5, 3. , 5.5, 1.8],\n",
              "       [1. , 6.9, 3.2, 5.7, 2.3],\n",
              "       [1. , 5.8, 2.6, 4. , 1.2],\n",
              "       [1. , 6.2, 2.9, 4.3, 1.3],\n",
              "       [1. , 6.9, 3.1, 5.4, 2.1],\n",
              "       [1. , 6.6, 2.9, 4.6, 1.3],\n",
              "       [1. , 6.5, 3.2, 5.1, 2. ],\n",
              "       [1. , 7. , 3.2, 4.7, 1.4],\n",
              "       [1. , 6.7, 3.1, 5.6, 2.4],\n",
              "       [1. , 7.3, 2.9, 6.3, 1.8],\n",
              "       [1. , 6.3, 2.5, 4.9, 1.5],\n",
              "       [1. , 6.4, 2.7, 5.3, 1.9],\n",
              "       [1. , 5.7, 2.5, 5. , 2. ],\n",
              "       [1. , 4.9, 2.4, 3.3, 1. ],\n",
              "       [1. , 6.3, 2.5, 5. , 1.9],\n",
              "       [1. , 6.1, 2.9, 4.7, 1.4],\n",
              "       [1. , 7.7, 2.6, 6.9, 2.3],\n",
              "       [1. , 7.7, 3. , 6.1, 2.3],\n",
              "       [1. , 5.6, 2.9, 3.6, 1.3]])"
            ]
          },
          "metadata": {},
          "execution_count": 99
        }
      ]
    },
    {
      "cell_type": "code",
      "source": [
        "Y_0=Y_train.values\n",
        "Y_1=Y_test.values\n",
        "Y_1"
      ],
      "metadata": {
        "colab": {
          "base_uri": "https://localhost:8080/"
        },
        "id": "DlMO9l2pHdlG",
        "outputId": "553735fc-ca5e-437a-e35b-5556ab41e7f1"
      },
      "execution_count": 100,
      "outputs": [
        {
          "output_type": "execute_result",
          "data": {
            "text/plain": [
              "array([[0],\n",
              "       [0],\n",
              "       [0],\n",
              "       [0],\n",
              "       [0],\n",
              "       [0],\n",
              "       [0],\n",
              "       [0],\n",
              "       [0],\n",
              "       [0],\n",
              "       [0],\n",
              "       [0],\n",
              "       [0],\n",
              "       [1],\n",
              "       [1],\n",
              "       [1],\n",
              "       [1],\n",
              "       [1],\n",
              "       [1],\n",
              "       [1]])"
            ]
          },
          "metadata": {},
          "execution_count": 100
        }
      ]
    },
    {
      "cell_type": "code",
      "source": [
        "#print(Y_train.shape)\n",
        "weights=np.zeros((X_0.shape[1],1))\n",
        "weights"
      ],
      "metadata": {
        "colab": {
          "base_uri": "https://localhost:8080/"
        },
        "id": "g_18E1O4vIMK",
        "outputId": "9fd7b507-de72-4ebf-becc-bf52e92c0d62"
      },
      "execution_count": 101,
      "outputs": [
        {
          "output_type": "execute_result",
          "data": {
            "text/plain": [
              "array([[0.],\n",
              "       [0.],\n",
              "       [0.],\n",
              "       [0.],\n",
              "       [0.]])"
            ]
          },
          "metadata": {},
          "execution_count": 101
        }
      ]
    },
    {
      "cell_type": "code",
      "source": [
        "def sigmoid(x):\n",
        "  return 1/(1+np.exp(-x))\n"
      ],
      "metadata": {
        "id": "90pCnLXDw6--"
      },
      "execution_count": 102,
      "outputs": []
    },
    {
      "cell_type": "code",
      "source": [
        "def grad(l,iterations,X,Y,weights):\n",
        "  for i in range(iterations):\n",
        "    linear_predictions=np.dot(X,weights)\n",
        "    y_p=sigmoid(linear_predictions)\n",
        "    gradient=(1/80)*np.dot(X.T,(y_p-Y))\n",
        "    weights=weights-l*gradient\n",
        "  return weights\n",
        "\n"
      ],
      "metadata": {
        "id": "LbJFCIjuyHgP"
      },
      "execution_count": 103,
      "outputs": []
    },
    {
      "cell_type": "code",
      "source": [
        "weights=grad(0.01,10000,X_0,Y_0,weights)\n",
        "weights"
      ],
      "metadata": {
        "colab": {
          "base_uri": "https://localhost:8080/"
        },
        "id": "hS_XhOFXJ52h",
        "outputId": "1217b0c2-bb41-4e72-857e-fef7eefa3439"
      },
      "execution_count": 104,
      "outputs": [
        {
          "output_type": "execute_result",
          "data": {
            "text/plain": [
              "array([[-1.43242143],\n",
              "       [-2.48267758],\n",
              "       [-1.80831401],\n",
              "       [ 3.29157212],\n",
              "       [ 3.73305058]])"
            ]
          },
          "metadata": {},
          "execution_count": 104
        }
      ]
    },
    {
      "cell_type": "code",
      "source": [
        "def accuracy(y_true,y_pred):  #function for accuracy\n",
        "  accuracy=np.sum(y_true==y_pred)/len(y_true)\n",
        "  return accuracy"
      ],
      "metadata": {
        "id": "YPLWdCE4Vcr1"
      },
      "execution_count": 105,
      "outputs": []
    },
    {
      "cell_type": "code",
      "source": [
        "#sigmoid(np.dot(X_1,weights))\n",
        "Predictions=(sigmoid(np.dot(X_1,weights))>=0.5).astype(int)\n",
        "print(accuracy(Y_1,Predictions)*100)"
      ],
      "metadata": {
        "colab": {
          "base_uri": "https://localhost:8080/"
        },
        "id": "jr_6ryqTKWpo",
        "outputId": "ca82a28a-05b9-48f1-e4d9-b152e35771d6"
      },
      "execution_count": 106,
      "outputs": [
        {
          "output_type": "stream",
          "name": "stdout",
          "text": [
            "95.0\n"
          ]
        }
      ]
    }
  ]
}