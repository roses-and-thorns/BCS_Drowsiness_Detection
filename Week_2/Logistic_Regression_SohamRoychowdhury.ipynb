{
  "nbformat": 4,
  "nbformat_minor": 0,
  "metadata": {
    "colab": {
      "provenance": []
    },
    "kernelspec": {
      "name": "python3",
      "display_name": "Python 3"
    },
    "language_info": {
      "name": "python"
    }
  },
  "cells": [
    {
      "cell_type": "code",
      "execution_count": 125,
      "metadata": {
        "id": "Hn5RQgSFKiUL"
      },
      "outputs": [],
      "source": [
        "import numpy as np\n",
        "import pandas as pd\n",
        "from sklearn import datasets\n",
        "iris = datasets.load_iris()\n",
        ""
      ]
    },
    {
      "cell_type": "code",
      "source": [
        "df = pd.DataFrame(iris.data, columns=iris.feature_names)\n",
        "df['target'] = iris.target\n"
      ],
      "metadata": {
        "id": "Uo23P8nnN2xD"
      },
      "execution_count": 126,
      "outputs": []
    },
    {
      "cell_type": "code",
      "source": [
        "df = df[df['target'].isin([1, 2])]\n",
        "df.loc[:,'target'] = df['target'].map({1: 0, 2: 1})\n"
      ],
      "metadata": {
        "id": "kbqQFxlfPATe"
      },
      "execution_count": 127,
      "outputs": []
    },
    {
      "cell_type": "code",
      "source": [
        "X = df.iloc[:, :-1].values\n",
        "y = df['target'].values\n"
      ],
      "metadata": {
        "id": "aAthLyy-ZZSl"
      },
      "execution_count": 128,
      "outputs": []
    },
    {
      "cell_type": "code",
      "source": [
        "def sigmoid(x):\n",
        "  return np.exp(x)/(1+np.exp(x))"
      ],
      "metadata": {
        "id": "5uZCRYHzTnSc"
      },
      "execution_count": 129,
      "outputs": []
    },
    {
      "cell_type": "code",
      "source": [
        "def cost_cal(X, y, theta):\n",
        "  m = len(y)\n",
        "  h = sigmoid(X.dot(theta))\n",
        "  cost = -(1/m) * np.sum(y * np.log(h) + (1 - y) * np.log(1 - h))\n",
        "  return cost"
      ],
      "metadata": {
        "id": "q_hG905MXasK"
      },
      "execution_count": 130,
      "outputs": []
    },
    {
      "cell_type": "code",
      "source": [
        "def gradient_descent(X, y, theta, learning_rate, iterations):\n",
        "    m = len(y)\n",
        "\n",
        "\n",
        "    for i in range(iterations):\n",
        "        gradients = (1/m) * X.T.dot(sigmoid(X.dot(theta)) - y)\n",
        "        theta -= learning_rate * gradients\n",
        "        cost = cost_cal(X, y, theta)\n",
        "\n",
        "    return theta"
      ],
      "metadata": {
        "id": "VCpFpTVqZ4kD"
      },
      "execution_count": 131,
      "outputs": []
    },
    {
      "cell_type": "code",
      "source": [
        "theta = np.zeros(X.shape[1])\n",
        "learning_rate = 0.01\n",
        "iterations = 10000\n"
      ],
      "metadata": {
        "id": "VOthDYngaUZo"
      },
      "execution_count": 132,
      "outputs": []
    },
    {
      "cell_type": "code",
      "source": [
        "theta = gradient_descent(X, y, theta, learning_rate, iterations)"
      ],
      "metadata": {
        "id": "sd7QrDQDd_8e"
      },
      "execution_count": 133,
      "outputs": []
    },
    {
      "cell_type": "code",
      "source": [
        "def predict(X, theta):\n",
        "    return sigmoid(X.dot(theta)) >= 0.5"
      ],
      "metadata": {
        "id": "wT4pQrHhaphl"
      },
      "execution_count": 134,
      "outputs": []
    },
    {
      "cell_type": "code",
      "source": [
        "predictions = predict(X, theta)\n",
        "accuracy = np.mean(predictions == y)"
      ],
      "metadata": {
        "id": "8HgnHkkAasiM"
      },
      "execution_count": 135,
      "outputs": []
    },
    {
      "cell_type": "code",
      "source": [
        "print(f\"accuracy is :{accuracy * 100:.2f}%\")"
      ],
      "metadata": {
        "colab": {
          "base_uri": "https://localhost:8080/"
        },
        "id": "O6AU1HuRa11X",
        "outputId": "e81e4090-53ac-4386-cbba-f7e6bc8fda53"
      },
      "execution_count": 136,
      "outputs": [
        {
          "output_type": "stream",
          "name": "stdout",
          "text": [
            "accuracy is :96.00%\n"
          ]
        }
      ]
    },
    {
      "cell_type": "code",
      "source": [],
      "metadata": {
        "id": "83DzPjEvbt1N"
      },
      "execution_count": 99,
      "outputs": []
    }
  ]
}