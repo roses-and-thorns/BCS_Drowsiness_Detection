{
  "cells": [
    {
      "cell_type": "markdown",
      "source": [
        "# BCS DD MINI PROJECT  "
      ],
      "metadata": {
        "id": "4WRR1ZW4VPfU"
      }
    },
    {
      "cell_type": "code",
      "execution_count": 1,
      "metadata": {
        "id": "UAxJnCIjxRM7",
        "colab": {
          "base_uri": "https://localhost:8080/"
        },
        "outputId": "2c7d4187-d5f5-44e4-b112-333fa4ae4cf3"
      },
      "outputs": [
        {
          "output_type": "stream",
          "name": "stdout",
          "text": [
            "Downloading data from https://storage.googleapis.com/tensorflow/tf-keras-datasets/mnist.npz\n",
            "11490434/11490434 [==============================] - 0s 0us/step\n"
          ]
        }
      ],
      "source": [
        "#IMPORTING ALL THE DEPENDENCIES\n",
        "\n",
        "import tensorflow as tf\n",
        "from tensorflow import keras\n",
        "import numpy as np\n",
        "import matplotlib.pyplot as plt\n",
        "from keras import layers\n",
        "from keras.models import Model\n",
        "from keras.models import load_model\n",
        "from keras import callbacks\n",
        "from tensorflow.keras import datasets, layers, models\n",
        "from tensorflow.keras.optimizers import Adam     #TO SET CUSTOM LEARNING RATE\n"
      ]
    },
    {
      "cell_type": "code",
      "execution_count": null,
      "metadata": {
        "id": "Bmp8U_BpxjcF"
      },
      "outputs": [],
      "source": [
        "#IMPORTING DATASET FROM MNIST DATABASE\n",
        "(X_train, y_train) , (X_test, y_test) = keras.datasets.mnist.load_data()"
      ]
    },
    {
      "cell_type": "code",
      "source": [
        "y_train.shape"
      ],
      "metadata": {
        "colab": {
          "base_uri": "https://localhost:8080/"
        },
        "id": "WRsY2NIJ8Tga",
        "outputId": "94e9180f-e070-49cf-b13b-374c3331c5d7"
      },
      "execution_count": null,
      "outputs": [
        {
          "output_type": "execute_result",
          "data": {
            "text/plain": [
              "(60000,)"
            ]
          },
          "metadata": {},
          "execution_count": 3
        }
      ]
    },
    {
      "cell_type": "code",
      "execution_count": null,
      "metadata": {
        "id": "T2RiUV4ZxVks"
      },
      "outputs": [],
      "source": [
        "images = np.zeros((60000,28,28,1))  #AN EMPTY ARRAY INITIALIZED TO ZERO, TO STORE IMAGES AS MATRIX\n",
        "images.shape\n",
        "#RESHAPING ARRAY CUZ INPUT TO THE MODEL ACCEPTS ONLY ONE SIZE\n",
        "for i in range(y_train.shape[0]):\n",
        "  images[i] = np.reshape(X_train[i], (28, 28, 1))\n"
      ]
    },
    {
      "cell_type": "code",
      "execution_count": null,
      "metadata": {
        "colab": {
          "base_uri": "https://localhost:8080/"
        },
        "id": "-btkQxTz913u",
        "outputId": "6365a09a-4ab0-460f-a3d2-3c098e0d4cd1"
      },
      "outputs": [
        {
          "output_type": "execute_result",
          "data": {
            "text/plain": [
              "(28, 28, 1)"
            ]
          },
          "metadata": {},
          "execution_count": 5
        }
      ],
      "source": [
        "images[1].shape"
      ]
    },
    {
      "cell_type": "code",
      "execution_count": null,
      "metadata": {
        "colab": {
          "base_uri": "https://localhost:8080/"
        },
        "id": "KNPDZ5v-xZ90",
        "outputId": "80d129f2-952a-4008-e3ad-2ec114ab96f8"
      },
      "outputs": [
        {
          "output_type": "execute_result",
          "data": {
            "text/plain": [
              "(60000,)"
            ]
          },
          "metadata": {},
          "execution_count": 6
        }
      ],
      "source": [
        "y_train.shape"
      ]
    },
    {
      "cell_type": "code",
      "execution_count": null,
      "metadata": {
        "id": "BzXID7mWxcCn"
      },
      "outputs": [],
      "source": [
        "def plot_sample(X,y,index):\n",
        "  plt.figure(figsize=(15,2))\n",
        "  plt.imshow(X[index])\n",
        "  plt.title(y[index])"
      ]
    },
    {
      "cell_type": "code",
      "execution_count": null,
      "metadata": {
        "colab": {
          "base_uri": "https://localhost:8080/",
          "height": 237
        },
        "id": "rW3vSqCaxhVx",
        "outputId": "9d1bdf7e-3ab1-421f-aabc-65a9c2996505"
      },
      "outputs": [
        {
          "output_type": "display_data",
          "data": {
            "text/plain": [
              "<Figure size 1500x200 with 1 Axes>"
            ],
            "image/png": "[encoded data removed]"
          },
          "metadata": {}
        }
      ],
      "source": [
        "plot_sample(X_train,y_train,5)"
      ]
    },
    {
      "cell_type": "code",
      "execution_count": null,
      "metadata": {
        "id": "4uG_X87fxpvX"
      },
      "outputs": [],
      "source": [
        "#BUILDING A BASIC CNN MODEL WITH SEQUENTIAL METHON WHICH IS ALSO PREFFERED FOR MULTI CLASS CLASSIFICATION,\n",
        "#IT IS BASICALLY COMPRISED OF 3 SETS OF A CONVOLUTION LAYER FOLLOWED BY A MAXPOOLING LAYER AND FINALLY 2 FULLY CONNECTED LAYER WHOSE ACTIVATION FUNCTION ARE RELU AND SOFTMAX RESPECTIVELY\n",
        "model = models.Sequential([\n",
        "    layers.Conv2D(filters = 32,kernel_size=(3,3),activation = 'relu',input_shape = (28,28,1)),\n",
        "    layers.MaxPooling2D((2,2)) ,\n",
        "\n",
        "    layers.Conv2D(filters = 64, kernel_size=(3,3),activation = 'relu'),\n",
        "    layers.MaxPooling2D((2,2)) ,\n",
        "\n",
        "    layers.Conv2D(filters = 64, kernel_size=(3,3),activation = 'relu'),\n",
        "    layers.MaxPooling2D((2,2)) ,\n",
        "\n",
        "    layers.Flatten(),\n",
        "    layers.Dense(64, activation = 'relu'),\n",
        "    layers.Dense(10, activation = 'softmax')\n",
        "]\n",
        ")\n",
        "\n",
        "optimizer = Adam(learning_rate=0.002)             #ADJUSTING LELARNING RATE IMPROVES ACCURACY AND IT PREVENT SHOOTING OFF OR VERY SLOW DESCENT.\n",
        "model.compile(optimizer = optimizer , loss = \"sparse_categorical_crossentropy\",metrics = 'accuracy')"
      ]
    },
    {
      "cell_type": "code",
      "execution_count": null,
      "metadata": {
        "id": "94omoTEa0XFH"
      },
      "outputs": [],
      "source": [
        "#BASICALLY WHAT IT DOES IS THAT DURING TRAINING AFTER EACH STEP, THE MODEL CHANGES ITS TRAINABLE PARAMETERS, IN THIS CASE ARE THE FILTERS VALUES IN THE CONVOLUTIONS LAYERS."
      ]
    },
    {
      "cell_type": "code",
      "execution_count": null,
      "metadata": {
        "colab": {
          "base_uri": "https://localhost:8080/"
        },
        "id": "29jR2yiH9rty",
        "outputId": "7c6c5b9a-290e-41bb-f4aa-f8b864a6f091"
      },
      "outputs": [
        {
          "output_type": "stream",
          "name": "stdout",
          "text": [
            "Model: \"sequential_2\"\n",
            "_________________________________________________________________\n",
            " Layer (type)                Output Shape              Param #   \n",
            "=================================================================\n",
            " conv2d_6 (Conv2D)           (None, 26, 26, 32)        320       \n",
            "                                                                 \n",
            " max_pooling2d_6 (MaxPoolin  (None, 13, 13, 32)        0         \n",
            " g2D)                                                            \n",
            "                                                                 \n",
            " conv2d_7 (Conv2D)           (None, 11, 11, 64)        18496     \n",
            "                                                                 \n",
            " max_pooling2d_7 (MaxPoolin  (None, 5, 5, 64)          0         \n",
            " g2D)                                                            \n",
            "                                                                 \n",
            " conv2d_8 (Conv2D)           (None, 3, 3, 64)          36928     \n",
            "                                                                 \n",
            " max_pooling2d_8 (MaxPoolin  (None, 1, 1, 64)          0         \n",
            " g2D)                                                            \n",
            "                                                                 \n",
            " flatten_2 (Flatten)         (None, 64)                0         \n",
            "                                                                 \n",
            " dense_4 (Dense)             (None, 64)                4160      \n",
            "                                                                 \n",
            " dense_5 (Dense)             (None, 10)                650       \n",
            "                                                                 \n",
            "=================================================================\n",
            "Total params: 60554 (236.54 KB)\n",
            "Trainable params: 60554 (236.54 KB)\n",
            "Non-trainable params: 0 (0.00 Byte)\n",
            "_________________________________________________________________\n"
          ]
        }
      ],
      "source": [
        "\n",
        "model.summary()"
      ]
    },
    {
      "cell_type": "code",
      "execution_count": null,
      "metadata": {
        "colab": {
          "base_uri": "https://localhost:8080/"
        },
        "id": "Q5VV6MR_0zTw",
        "outputId": "58453cc5-6a82-4e7f-bbc2-9aa8ac31b7d7"
      },
      "outputs": [
        {
          "output_type": "stream",
          "name": "stdout",
          "text": [
            "Epoch 1/20\n",
            "24/24 [==============================] - 2s 39ms/step - loss: 4.8655 - accuracy: 0.3359 - val_loss: 1.1445 - val_accuracy: 0.6064\n",
            "Epoch 2/20\n",
            "24/24 [==============================] - 1s 29ms/step - loss: 0.7103 - accuracy: 0.7793 - val_loss: 0.3599 - val_accuracy: 0.8928\n",
            "Epoch 3/20\n",
            "24/24 [==============================] - 1s 29ms/step - loss: 0.3003 - accuracy: 0.9094 - val_loss: 0.2184 - val_accuracy: 0.9353\n",
            "Epoch 4/20\n",
            "24/24 [==============================] - 1s 31ms/step - loss: 0.2029 - accuracy: 0.9383 - val_loss: 0.1720 - val_accuracy: 0.9482\n",
            "Epoch 5/20\n",
            "24/24 [==============================] - 1s 30ms/step - loss: 0.1602 - accuracy: 0.9523 - val_loss: 0.1413 - val_accuracy: 0.9576\n",
            "Epoch 6/20\n",
            "24/24 [==============================] - 1s 29ms/step - loss: 0.1323 - accuracy: 0.9601 - val_loss: 0.1236 - val_accuracy: 0.9622\n",
            "Epoch 7/20\n",
            "24/24 [==============================] - 1s 28ms/step - loss: 0.1107 - accuracy: 0.9668 - val_loss: 0.1142 - val_accuracy: 0.9653\n",
            "Epoch 8/20\n",
            "24/24 [==============================] - 1s 27ms/step - loss: 0.0965 - accuracy: 0.9709 - val_loss: 0.1043 - val_accuracy: 0.9682\n",
            "Epoch 9/20\n",
            "24/24 [==============================] - 1s 27ms/step - loss: 0.0858 - accuracy: 0.9739 - val_loss: 0.0978 - val_accuracy: 0.9696\n",
            "Epoch 10/20\n",
            "24/24 [==============================] - 1s 27ms/step - loss: 0.0771 - accuracy: 0.9762 - val_loss: 0.0946 - val_accuracy: 0.9718\n",
            "Epoch 11/20\n",
            "24/24 [==============================] - 1s 28ms/step - loss: 0.0703 - accuracy: 0.9779 - val_loss: 0.0864 - val_accuracy: 0.9738\n",
            "Epoch 12/20\n",
            "24/24 [==============================] - 1s 28ms/step - loss: 0.0628 - accuracy: 0.9812 - val_loss: 0.0855 - val_accuracy: 0.9739\n",
            "Epoch 13/20\n",
            "24/24 [==============================] - 1s 29ms/step - loss: 0.0543 - accuracy: 0.9836 - val_loss: 0.0822 - val_accuracy: 0.9748\n",
            "Epoch 14/20\n",
            "24/24 [==============================] - 1s 29ms/step - loss: 0.0500 - accuracy: 0.9845 - val_loss: 0.0815 - val_accuracy: 0.9755\n",
            "Epoch 15/20\n",
            "24/24 [==============================] - 1s 28ms/step - loss: 0.0462 - accuracy: 0.9857 - val_loss: 0.0827 - val_accuracy: 0.9750\n",
            "Epoch 16/20\n",
            "24/24 [==============================] - 1s 28ms/step - loss: 0.0428 - accuracy: 0.9869 - val_loss: 0.0831 - val_accuracy: 0.9754\n",
            "Epoch 17/20\n",
            "24/24 [==============================] - 1s 29ms/step - loss: 0.0387 - accuracy: 0.9883 - val_loss: 0.0811 - val_accuracy: 0.9768\n",
            "Epoch 18/20\n",
            "24/24 [==============================] - 1s 29ms/step - loss: 0.0363 - accuracy: 0.9888 - val_loss: 0.0825 - val_accuracy: 0.9764\n",
            "Epoch 19/20\n",
            "24/24 [==============================] - 1s 28ms/step - loss: 0.0323 - accuracy: 0.9904 - val_loss: 0.0813 - val_accuracy: 0.9774\n",
            "Epoch 20/20\n",
            "24/24 [==============================] - 1s 28ms/step - loss: 0.0305 - accuracy: 0.9905 - val_loss: 0.0800 - val_accuracy: 0.9771\n"
          ]
        }
      ],
      "source": [
        "hist = model.fit(X_train,y_train, batch_size=2000, epochs=20,verbose=1,validation_split=0.2)     #SPILLING DATA INTO 80(TRAINING)-20(VALIDATION) RATIO"
      ]
    },
    {
      "cell_type": "code",
      "execution_count": null,
      "metadata": {
        "colab": {
          "base_uri": "https://localhost:8080/"
        },
        "id": "LCkahnNFExB4",
        "outputId": "3636d113-48bc-46ed-d708-5810510f1611"
      },
      "outputs": [
        {
          "output_type": "stream",
          "name": "stdout",
          "text": [
            "(60000,)\n"
          ]
        }
      ],
      "source": [
        "print(y_train.shape)"
      ]
    },
    {
      "cell_type": "code",
      "execution_count": null,
      "metadata": {
        "id": "Ff0_xIq70e9l",
        "colab": {
          "base_uri": "https://localhost:8080/"
        },
        "outputId": "956b9683-fa35-45e3-aa94-d034ac344c97"
      },
      "outputs": [
        {
          "output_type": "stream",
          "name": "stdout",
          "text": [
            "313/313 [==============================] - 2s 4ms/step - loss: 0.0868 - accuracy: 0.9766\n"
          ]
        },
        {
          "output_type": "execute_result",
          "data": {
            "text/plain": [
              "[0.08683072775602341, 0.9765999913215637]"
            ]
          },
          "metadata": {},
          "execution_count": 22
        }
      ],
      "source": [
        "model.evaluate(X_test,y_test)\n",
        "\n"
      ]
    },
    {
      "cell_type": "code",
      "source": [],
      "metadata": {
        "id": "MN2ncpOWE4xf"
      },
      "execution_count": null,
      "outputs": []
    }
  ],
  "metadata": {
    "colab": {
      "provenance": [],
      "gpuType": "T4",
      "authorship_tag": "ABX9TyP637B7OW7fJrJV5uGd8yC2"
    },
    "kernelspec": {
      "display_name": "Python 3",
      "name": "python3"
    },
    "language_info": {
      "name": "python"
    },
    "accelerator": "GPU"
  },
  "nbformat": 4,
  "nbformat_minor": 0
}